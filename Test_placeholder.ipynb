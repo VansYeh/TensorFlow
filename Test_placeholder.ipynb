{
  "nbformat": 4,
  "nbformat_minor": 0,
  "metadata": {
    "colab": {
      "name": "Test_placeholder.ipynb",
      "version": "0.3.2",
      "provenance": [],
      "collapsed_sections": [],
      "include_colab_link": true
    },
    "kernelspec": {
      "name": "python3",
      "display_name": "Python 3"
    }
  },
  "cells": [
    {
      "cell_type": "markdown",
      "metadata": {
        "id": "view-in-github",
        "colab_type": "text"
      },
      "source": [
        "<a href=\"https://colab.research.google.com/github/VansYeh/TensorFlow/blob/master/Test_placeholder.ipynb\" target=\"_parent\"><img src=\"https://colab.research.google.com/assets/colab-badge.svg\" alt=\"Open In Colab\"/></a>"
      ]
    },
    {
      "cell_type": "code",
      "metadata": {
        "id": "OlaW2xdhUGPI",
        "colab_type": "code",
        "colab": {}
      },
      "source": [
        "import tensorflow as tf"
      ],
      "execution_count": 0,
      "outputs": []
    },
    {
      "cell_type": "code",
      "metadata": {
        "id": "LtQMnGYWUPOx",
        "colab_type": "code",
        "colab": {}
      },
      "source": [
        "a=tf.placeholder(tf.float32, shape=(2), name='input')\n",
        "b=tf.placeholder(tf.float32, shape=(4,2), name='input')\n",
        "result=a+b\n",
        "b_val=tf.random_normal([4,2], mean=0.5)"
      ],
      "execution_count": 0,
      "outputs": []
    },
    {
      "cell_type": "code",
      "metadata": {
        "id": "tHQsopzBUcrn",
        "colab_type": "code",
        "colab": {}
      },
      "source": [
        "print(type([1.0,2.0]))\n",
        "print(type(b_val))\n",
        "print(b_val)\n",
        "\n",
        "\n",
        "print(type(a))\n",
        "print(type(b))\n",
        "print(a)\n",
        "print(b)\n",
        "\n",
        "\n",
        "\n",
        "with tf.Session() as sess:\n",
        "    #this feed_dict type here is dict<tf.Tensor, python.list>\n",
        "    fetches = sess.run(a+b_val, feed_dict={a:[1.0,2.0]})\n",
        "    print(result.eval(feed_dict={a:[1.0,2.0], b:[[1,2],[1,2],[1,2],[1,2]]}))\n",
        "    print(fetches)"
      ],
      "execution_count": 0,
      "outputs": []
    },
    {
      "cell_type": "code",
      "metadata": {
        "id": "Ls_oienvVGU3",
        "colab_type": "code",
        "colab": {}
      },
      "source": [
        "biases = tf.Variable(tf.zeros([3]))"
      ],
      "execution_count": 0,
      "outputs": []
    },
    {
      "cell_type": "markdown",
      "metadata": {
        "id": "r-9Ol1V9w3aG",
        "colab_type": "text"
      },
      "source": [
        "# 'Variable' instance needs to be clearly, sure defined before used"
      ]
    },
    {
      "cell_type": "code",
      "metadata": {
        "id": "3iWWQi1WwZLH",
        "colab_type": "code",
        "colab": {}
      },
      "source": [
        "b1 = tf.Variable(biases.initialized_value())\n",
        "b2 = tf.Variable(biases.initialized_value()*3.0)"
      ],
      "execution_count": 0,
      "outputs": []
    },
    {
      "cell_type": "markdown",
      "metadata": {
        "id": "ZsJ_zcrQyEPt",
        "colab_type": "text"
      },
      "source": [
        "# Demo for initialize all variable at 1 time"
      ]
    },
    {
      "cell_type": "code",
      "metadata": {
        "id": "yppy6BQlxh_2",
        "colab_type": "code",
        "colab": {}
      },
      "source": [
        "x=tf.constant([[1.0,2.0]])\n",
        "\n",
        "w1 = tf.Variable(tf.random_normal([2,3], stddev=1, seed=1))\n",
        "w2 = tf.Variable(tf.random_normal([3,1], stddev=1, seed=1))\n",
        "\n",
        "a= tf.matmul(x, w1)\n",
        "y= tf.matmul(a, w2)"
      ],
      "execution_count": 0,
      "outputs": []
    },
    {
      "cell_type": "code",
      "metadata": {
        "id": "gdkQ-e4KzBa9",
        "colab_type": "code",
        "colab": {}
      },
      "source": [
        "#init_op = tf.initialize_all_variables()\n",
        "init_op_new = tf.global_variables_initializer()\n",
        "\n"
      ],
      "execution_count": 0,
      "outputs": []
    },
    {
      "cell_type": "code",
      "metadata": {
        "id": "SPhvl1oNz3H8",
        "colab_type": "code",
        "colab": {
          "base_uri": "https://localhost:8080/",
          "height": 51
        },
        "outputId": "31d41393-01ea-4249-dadd-1551596672aa"
      },
      "source": [
        "with tf.Session() as sess:\n",
        "    sess.run(init_op_new)\n",
        "    print(sess.run(y))\n",
        "    print(y)"
      ],
      "execution_count": 64,
      "outputs": [
        {
          "output_type": "stream",
          "text": [
            "[[7.2020965]]\n",
            "Tensor(\"MatMul_1:0\", shape=(1, 1), dtype=float32)\n"
          ],
          "name": "stdout"
        }
      ]
    }
  ]
}